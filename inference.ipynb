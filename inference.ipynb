{
 "cells": [
  {
   "cell_type": "code",
   "execution_count": 1,
   "metadata": {},
   "outputs": [],
   "source": [
    "%matplotlib inline\n",
    "import matplotlib.pyplot as plt\n",
    "import IPython.display as ipd\n",
    "\n",
    "import os\n",
    "import json\n",
    "import math\n",
    "import torch\n",
    "from torch import nn\n",
    "from torch.nn import functional as F\n",
    "from torch.utils.data import DataLoader\n",
    "\n",
    "import commons\n",
    "import utils\n",
    "from data_utils import TextAudioLoader, TextAudioCollate, TextAudioSpeakerLoader, TextAudioSpeakerCollate\n",
    "from models import SynthesizerTrn\n",
    "from text.symbols import symbols\n",
    "from text import text_to_sequence\n",
    "\n",
    "from scipy.io.wavfile import write\n",
    "\n",
    "\n",
    "def get_text(text, hps):\n",
    "    text_norm = text_to_sequence(text, hps.data.text_cleaners)\n",
    "    if hps.data.add_blank:\n",
    "        text_norm = commons.intersperse(text_norm, 0)\n",
    "    text_norm = torch.LongTensor(text_norm)\n",
    "    return text_norm"
   ]
  },
  {
   "cell_type": "markdown",
   "metadata": {},
   "source": [
    "## Single Speaker"
   ]
  },
  {
   "cell_type": "code",
   "execution_count": 2,
   "metadata": {},
   "outputs": [],
   "source": [
    "hps = utils.get_hparams_from_file(\"configs/piengyo.json\")"
   ]
  },
  {
   "cell_type": "code",
   "execution_count": 3,
   "metadata": {},
   "outputs": [
    {
     "name": "stdout",
     "output_type": "stream",
     "text": [
      "INFO:root:Loaded checkpoint '../drive/MyDrive/pytts/G_140.pth' (iteration 10)\n"
     ]
    }
   ],
   "source": [
    "net_g = SynthesizerTrn(\n",
    "    len(symbols),\n",
    "    hps.data.filter_length // 2 + 1,\n",
    "    hps.train.segment_size // hps.data.hop_length,\n",
    "    **hps.model).cuda()\n",
    "_ = net_g.eval()\n",
    "\n",
    "_ = utils.load_checkpoint(\"../drive/MyDrive/pytts/G_140.pth\", net_g, None)"
   ]
  },
  {
   "cell_type": "code",
   "execution_count": 4,
   "metadata": {},
   "outputs": [
    {
     "data": {
      "text/html": [
       "\n",
       "                <audio  controls=\"controls\" >\n",
       "                    <source src=\"data:audio/wav;base64,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\" type=\"audio/wav\" />\n",
       "                    Your browser does not support the audio element.\n",
       "                </audio>\n",
       "              "
      ],
      "text/plain": [
       "<IPython.lib.display.Audio object>"
      ]
     },
     "metadata": {},
     "output_type": "display_data"
    }
   ],
   "source": [
    "stn_tst = get_text(\"you2\", hps)\n",
    "with torch.no_grad():\n",
    "    x_tst = stn_tst.cuda().unsqueeze(0)\n",
    "    x_tst_lengths = torch.LongTensor([stn_tst.size(0)]).cuda()\n",
    "    audio = net_g.infer(x_tst, x_tst_lengths, noise_scale=.667, noise_scale_w=0.8, length_scale=1)[0][0,0].data.cpu().float().numpy()\n",
    "ipd.display(ipd.Audio(audio, rate=hps.data.sampling_rate, normalize=False))"
   ]
  },
  {
   "cell_type": "markdown",
   "metadata": {},
   "source": [
    "## Multiple Speakers"
   ]
  },
  {
   "cell_type": "code",
   "execution_count": null,
   "metadata": {},
   "outputs": [],
   "source": [
    "hps = utils.get_hparams_from_file(\"./configs/XXX.json\")"
   ]
  },
  {
   "cell_type": "code",
   "execution_count": null,
   "metadata": {},
   "outputs": [],
   "source": [
    "net_g = SynthesizerTrn(\n",
    "    len(symbols),\n",
    "    hps.data.filter_length // 2 + 1,\n",
    "    hps.train.segment_size // hps.data.hop_length,\n",
    "    n_speakers=hps.data.n_speakers,\n",
    "    **hps.model).cuda()\n",
    "_ = net_g.eval()\n",
    "\n",
    "_ = utils.load_checkpoint(\"/path/to/model.pth\", net_g, None)"
   ]
  },
  {
   "cell_type": "code",
   "execution_count": null,
   "metadata": {},
   "outputs": [],
   "source": [
    "stn_tst = get_text(\"こんにちは\", hps)\n",
    "with torch.no_grad():\n",
    "    x_tst = stn_tst.cuda().unsqueeze(0)\n",
    "    x_tst_lengths = torch.LongTensor([stn_tst.size(0)]).cuda()\n",
    "    sid = torch.LongTensor([4]).cuda()\n",
    "    audio = net_g.infer(x_tst, x_tst_lengths, sid=sid, noise_scale=.667, noise_scale_w=0.8, length_scale=1)[0][0,0].data.cpu().float().numpy()\n",
    "ipd.display(ipd.Audio(audio, rate=hps.data.sampling_rate, normalize=False))"
   ]
  },
  {
   "cell_type": "markdown",
   "metadata": {},
   "source": [
    "### Voice Conversion"
   ]
  },
  {
   "cell_type": "code",
   "execution_count": null,
   "metadata": {},
   "outputs": [],
   "source": [
    "dataset = TextAudioSpeakerLoader(hps.data.validation_files, hps.data)\n",
    "collate_fn = TextAudioSpeakerCollate()\n",
    "loader = DataLoader(dataset, num_workers=8, shuffle=False,\n",
    "    batch_size=1, pin_memory=True,\n",
    "    drop_last=True, collate_fn=collate_fn)\n",
    "data_list = list(loader)"
   ]
  },
  {
   "cell_type": "code",
   "execution_count": null,
   "metadata": {},
   "outputs": [],
   "source": [
    "with torch.no_grad():\n",
    "    x, x_lengths, spec, spec_lengths, y, y_lengths, sid_src = [x.cuda() for x in data_list[0]]\n",
    "    sid_tgt1 = torch.LongTensor([1]).cuda()\n",
    "    sid_tgt2 = torch.LongTensor([2]).cuda()\n",
    "    sid_tgt3 = torch.LongTensor([4]).cuda()\n",
    "    audio1 = net_g.voice_conversion(spec, spec_lengths, sid_src=sid_src, sid_tgt=sid_tgt1)[0][0,0].data.cpu().float().numpy()\n",
    "    audio2 = net_g.voice_conversion(spec, spec_lengths, sid_src=sid_src, sid_tgt=sid_tgt2)[0][0,0].data.cpu().float().numpy()\n",
    "    audio3 = net_g.voice_conversion(spec, spec_lengths, sid_src=sid_src, sid_tgt=sid_tgt3)[0][0,0].data.cpu().float().numpy()\n",
    "print(\"Original SID: %d\" % sid_src.item())\n",
    "ipd.display(ipd.Audio(y[0].cpu().numpy(), rate=hps.data.sampling_rate, normalize=False))\n",
    "print(\"Converted SID: %d\" % sid_tgt1.item())\n",
    "ipd.display(ipd.Audio(audio1, rate=hps.data.sampling_rate, normalize=False))\n",
    "print(\"Converted SID: %d\" % sid_tgt2.item())\n",
    "ipd.display(ipd.Audio(audio2, rate=hps.data.sampling_rate, normalize=False))\n",
    "print(\"Converted SID: %d\" % sid_tgt3.item())\n",
    "ipd.display(ipd.Audio(audio3, rate=hps.data.sampling_rate, normalize=False))"
   ]
  }
 ],
 "metadata": {
  "kernelspec": {
   "display_name": "Python 3.7.9 64-bit",
   "language": "python",
   "name": "python3"
  },
  "language_info": {
   "codemirror_mode": {
    "name": "ipython",
    "version": 3
   },
   "file_extension": ".py",
   "mimetype": "text/x-python",
   "name": "python",
   "nbconvert_exporter": "python",
   "pygments_lexer": "ipython3",
   "version": "3.7.16"
  },
  "vscode": {
   "interpreter": {
    "hash": "c15292341d300295ca9f634d04c483f667a0c1d5ee0c309c2ac4e312cce8b8df"
   }
  }
 },
 "nbformat": 4,
 "nbformat_minor": 4
}
